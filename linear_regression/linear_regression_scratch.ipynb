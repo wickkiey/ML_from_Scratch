{
 "cells": [
  {
   "cell_type": "code",
   "execution_count": 13,
   "metadata": {
    "ExecuteTime": {
     "end_time": "2020-10-10T14:08:31.192399Z",
     "start_time": "2020-10-10T14:08:30.017308Z"
    }
   },
   "outputs": [],
   "source": [
    "#Linear regression\n",
    "\n",
    "import pandas as pd\n",
    "import numpy as np\n",
    "import os\n",
    "from sklearn.metrics import mean_squared_error\n",
    "from IPython.display import clear_output\n",
    "from sklearn.preprocessing import StandardScaler\n",
    "\n"
   ]
  },
  {
   "cell_type": "code",
   "execution_count": 5,
   "metadata": {
    "ExecuteTime": {
     "end_time": "2020-10-10T10:05:02.921638Z",
     "start_time": "2020-10-10T10:05:02.897701Z"
    }
   },
   "outputs": [],
   "source": [
    "%matplotlib inline"
   ]
  },
  {
   "cell_type": "code",
   "execution_count": 6,
   "metadata": {
    "ExecuteTime": {
     "end_time": "2020-10-10T10:05:03.281551Z",
     "start_time": "2020-10-10T10:05:03.081215Z"
    }
   },
   "outputs": [
    {
     "data": {
      "image/png": "[encoded data removed]",
      "text/plain": [
       "<Figure size 432x288 with 1 Axes>"
      ]
     },
     "metadata": {
      "needs_background": "light"
     },
     "output_type": "display_data"
    }
   ],
   "source": [
    "import matplotlib.pyplot as plt\n",
    "\n",
    "hl, = plt.plot([], [])\n",
    "\n",
    "def update_line(hl, xdata,ydata):\n",
    "    hl.set_xdata(np.append(hl.get_xdata(), xdata))\n",
    "    hl.set_ydata(np.append(hl.get_ydata(), ydata))\n",
    "    plt.draw()\n",
    "    plt.pause(0.05)"
   ]
  },
  {
   "cell_type": "code",
   "execution_count": 7,
   "metadata": {
    "ExecuteTime": {
     "end_time": "2020-10-10T10:05:03.342063Z",
     "start_time": "2020-10-10T10:05:03.305136Z"
    }
   },
   "outputs": [],
   "source": [
    "# Load the data\n",
    "data = np.loadtxt(\"airfoil_self_noise.dat\")\n",
    "\n",
    "x = data[:,:5]\n",
    "y = data[:,5]\n"
   ]
  },
  {
   "cell_type": "code",
   "execution_count": 8,
   "metadata": {
    "ExecuteTime": {
     "end_time": "2020-10-10T10:05:03.554169Z",
     "start_time": "2020-10-10T10:05:03.531100Z"
    }
   },
   "outputs": [],
   "source": [
    "sc  = StandardScaler()\n",
    "x = sc.fit_transform(x)\n",
    "\n",
    "x = np.concatenate((np.ones((len(x),1)),x),axis=1)\n"
   ]
  },
  {
   "cell_type": "code",
   "execution_count": 9,
   "metadata": {
    "ExecuteTime": {
     "end_time": "2020-10-10T10:05:04.132823Z",
     "start_time": "2020-10-10T10:05:04.116832Z"
    }
   },
   "outputs": [],
   "source": [
    "parms = np.array([.5]* 6)\n",
    "parms\n",
    "\n",
    "lr = .01\n"
   ]
  },
  {
   "cell_type": "code",
   "execution_count": 10,
   "metadata": {
    "ExecuteTime": {
     "end_time": "2020-10-10T10:05:04.615920Z",
     "start_time": "2020-10-10T10:05:04.601959Z"
    }
   },
   "outputs": [],
   "source": [
    "def get_loss(parms):\n",
    "\tyhat =  np.matmul(x,parms.T)\n",
    "\tmse = mean_squared_error(y,yhat)\n",
    "\treturn mse\n"
   ]
  },
  {
   "cell_type": "code",
   "execution_count": 12,
   "metadata": {
    "ExecuteTime": {
     "end_time": "2020-10-10T10:05:23.241180Z",
     "start_time": "2020-10-10T10:05:18.606044Z"
    }
   },
   "outputs": [
    {
     "data": {
      "image/png": "[encoded data removed]",
      "text/plain": [
       "<Figure size 432x288 with 1 Axes>"
      ]
     },
     "metadata": {
      "needs_background": "light"
     },
     "output_type": "display_data"
    }
   ],
   "source": [
    "j_ = []\n",
    "loss_= []\n",
    "for j in range(1000):\n",
    "    p = np.zeros(6)\n",
    "    for i in range(6):\n",
    "        a= (np.matmul(x,parms) - y)\n",
    "        p[i] = (lr/1503)*np.sum(a*x[:,i])\n",
    "\n",
    "    loss = get_loss(parms)\n",
    "    parms = parms - p\n",
    "    j_.append(j)\n",
    "    loss_.append(loss)\n",
    "    \n",
    "    if j%50 ==0:\n",
    "        clear_output(wait=True)\n",
    "        plt.plot(j_,loss_)\n",
    "        plt.pause(0.05)"
   ]
  },
  {
   "cell_type": "code",
   "execution_count": 70,
   "metadata": {
    "ExecuteTime": {
     "end_time": "2020-10-06T13:27:57.389126Z",
     "start_time": "2020-10-06T13:27:57.034000Z"
    }
   },
   "outputs": [
    {
     "data": {
      "text/plain": [
       "[<matplotlib.lines.Line2D at 0x183cfcf2c88>]"
      ]
     },
     "execution_count": 70,
     "metadata": {},
     "output_type": "execute_result"
    },
    {
     "data": {
      "image/png": "[encoded data removed]",
      "text/plain": [
       "<Figure size 432x288 with 1 Axes>"
      ]
     },
     "metadata": {
      "needs_background": "light"
     },
     "output_type": "display_data"
    }
   ],
   "source": [
    "plt.plot(j_,loss_)"
   ]
  },
  {
   "cell_type": "code",
   "execution_count": null,
   "metadata": {},
   "outputs": [],
   "source": []
  }
 ],
 "metadata": {
  "hide_input": false,
  "kernelspec": {
   "display_name": "Python 3",
   "language": "python",
   "name": "python3"
  },
  "language_info": {
   "codemirror_mode": {
    "name": "ipython",
    "version": 3
   },
   "file_extension": ".py",
   "mimetype": "text/x-python",
   "name": "python",
   "nbconvert_exporter": "python",
   "pygments_lexer": "ipython3",
   "version": "3.7.6"
  },
  "toc": {
   "base_numbering": 1,
   "nav_menu": {},
   "number_sections": true,
   "sideBar": true,
   "skip_h1_title": false,
   "title_cell": "Table of Contents",
   "title_sidebar": "Contents",
   "toc_cell": false,
   "toc_position": {},
   "toc_section_display": true,
   "toc_window_display": false
  }
 },
 "nbformat": 4,
 "nbformat_minor": 4
}
