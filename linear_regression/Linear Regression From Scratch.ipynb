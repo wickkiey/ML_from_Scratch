{
 "cells": [
  {
   "cell_type": "code",
   "execution_count": null,
   "metadata": {
    "ExecuteTime": {
     "end_time": "2020-10-12T01:28:24.882858Z",
     "start_time": "2020-10-12T01:28:23.289249Z"
    }
   },
   "outputs": [],
   "source": [
    "#Linear regression\n",
    "\n",
    "import pandas as pd\n",
    "import numpy as np\n",
    "import os\n",
    "from sklearn.metrics import mean_squared_error\n",
    "from IPython.display import clear_output\n",
    "from sklearn.preprocessing import StandardScaler"
   ]
  },
  {
   "cell_type": "code",
   "execution_count": null,
   "metadata": {
    "ExecuteTime": {
     "end_time": "2020-10-12T01:28:25.547508Z",
     "start_time": "2020-10-12T01:28:24.885820Z"
    }
   },
   "outputs": [],
   "source": [
    "from matplotlib import pyplot as plt\n"
   ]
  },
  {
   "cell_type": "code",
   "execution_count": null,
   "metadata": {},
   "outputs": [],
   "source": []
  },
  {
   "cell_type": "code",
   "execution_count": null,
   "metadata": {
    "ExecuteTime": {
     "end_time": "2020-10-12T01:28:25.577511Z",
     "start_time": "2020-10-12T01:28:25.555537Z"
    }
   },
   "outputs": [],
   "source": [
    "%matplotlib inline"
   ]
  },
  {
   "cell_type": "code",
   "execution_count": null,
   "metadata": {
    "ExecuteTime": {
     "end_time": "2020-10-12T01:28:25.608111Z",
     "start_time": "2020-10-12T01:28:25.585462Z"
    }
   },
   "outputs": [],
   "source": [
    "plt.rcParams[\"figure.figsize\"] = (12,5)\n",
    "plt.style.use('dark_background')"
   ]
  },
  {
   "cell_type": "code",
   "execution_count": null,
   "metadata": {
    "ExecuteTime": {
     "end_time": "2020-10-12T01:28:25.652816Z",
     "start_time": "2020-10-12T01:28:25.613846Z"
    }
   },
   "outputs": [],
   "source": [
    "class liner_regression_():\n",
    "\n",
    "    def __init__(self):\n",
    "        pass\n",
    "\n",
    "        \n",
    "    def get_loss(self,x,y,coeff):\n",
    "        yhat =  np.matmul(x,coeff.T)\n",
    "        mse = mean_squared_error(y,yhat)\n",
    "        return mse\n",
    "    \n",
    "    def train(self,x,y,lr,epochs,early_stop):\n",
    "        self.sc  = StandardScaler()\n",
    "        x = self.sc.fit_transform(x)\n",
    "        x = np.concatenate((np.ones((len(x),1)),x),axis=1)\n",
    "        print(\"x array\",x[1])\n",
    "        #initialize coefficients\n",
    "        self.coeff = np.array([.5]* x.shape[1])\n",
    "        early_stop_watcher = 0\n",
    "        \n",
    "        j_ = []\n",
    "        loss_= []\n",
    "        for j in range(epochs):\n",
    "            grad_dir = np.zeros(self.coeff.shape[0])\n",
    "            \n",
    "            for i in range(x.shape[1]):\n",
    "                a= (np.matmul(x,self.coeff) - y)\n",
    "                grad_dir[i] = (lr/x.shape[0])*np.sum(a*x[:,i])\n",
    "\n",
    "            loss = self.get_loss(x,y,self.coeff)\n",
    "            self.coeff -= grad_dir\n",
    "            j_.append(j)\n",
    "            loss_.append(loss)\n",
    "            \n",
    "            if j%50 ==0:\n",
    "                clear_output(wait=True)\n",
    "                plt.plot(j_,loss_)\n",
    "                plt.title(\"Linear Regression Loss\")\n",
    "                plt.xlabel(\"Epochs\")\n",
    "                plt.ylabel(\"Training Loss\")\n",
    "                \n",
    "                plt.pause(0.05)\n",
    "            \n",
    "            self.loss = loss\n",
    "            \n",
    "            if len(loss_) > 10:\n",
    "                if abs(loss - loss_[-2]) < .001:\n",
    "                    early_stop_watcher +=1\n",
    "\n",
    "                    if early_stop_watcher == early_stop:\n",
    "                        break\n",
    "                else:\n",
    "                    #lr /=10.\n",
    "                    early_stop_watcher =0\n",
    "\n",
    "            \n",
    "            "
   ]
  },
  {
   "cell_type": "markdown",
   "metadata": {},
   "source": [
    "## Linear Regression from Scratch - Gradient Descent "
   ]
  },
  {
   "cell_type": "markdown",
   "metadata": {},
   "source": [
    "### Load Data"
   ]
  },
  {
   "cell_type": "code",
   "execution_count": 16,
   "metadata": {
    "ExecuteTime": {
     "end_time": "2020-10-12T01:32:23.371181Z",
     "start_time": "2020-10-12T01:32:23.337072Z"
    }
   },
   "outputs": [
    {
     "data": {
      "text/plain": [
       "array([[8.00000e+02, 0.00000e+00, 3.04800e-01, 7.13000e+01, 2.66337e-03,\n",
       "        1.26201e+02],\n",
       "       [1.00000e+03, 0.00000e+00, 3.04800e-01, 7.13000e+01, 2.66337e-03,\n",
       "        1.25201e+02],\n",
       "       [1.25000e+03, 0.00000e+00, 3.04800e-01, 7.13000e+01, 2.66337e-03,\n",
       "        1.25951e+02],\n",
       "       [1.60000e+03, 0.00000e+00, 3.04800e-01, 7.13000e+01, 2.66337e-03,\n",
       "        1.27591e+02],\n",
       "       [2.00000e+03, 0.00000e+00, 3.04800e-01, 7.13000e+01, 2.66337e-03,\n",
       "        1.27461e+02]])"
      ]
     },
     "execution_count": 16,
     "metadata": {},
     "output_type": "execute_result"
    }
   ],
   "source": [
    "data = np.loadtxt(\"airfoil_self_noise.dat\")\n",
    "\n",
    "x = data[:,:5]\n",
    "y = data[:,5]\n",
    "\n",
    "data[:5]"
   ]
  },
  {
   "cell_type": "markdown",
   "metadata": {},
   "source": [
    "### Linear Regression from Scratch"
   ]
  },
  {
   "cell_type": "code",
   "execution_count": 17,
   "metadata": {
    "ExecuteTime": {
     "end_time": "2020-10-12T01:32:24.370111Z",
     "start_time": "2020-10-12T01:32:24.357065Z"
    }
   },
   "outputs": [],
   "source": [
    "lr_model= liner_regression_()"
   ]
  },
  {
   "cell_type": "markdown",
   "metadata": {},
   "source": [
    "### Train model - Linear Regression with Loss Plot"
   ]
  },
  {
   "cell_type": "code",
   "execution_count": 18,
   "metadata": {
    "ExecuteTime": {
     "end_time": "2020-10-12T01:32:28.744096Z",
     "start_time": "2020-10-12T01:32:25.089210Z"
    }
   },
   "outputs": [
    {
     "data": {
      "image/png": "[encoded data removed]",
      "text/plain": [
       "<Figure size 864x360 with 1 Axes>"
      ]
     },
     "metadata": {},
     "output_type": "display_data"
    }
   ],
   "source": [
    "\n",
    "lr_model.train(x,y,lr=.01,epochs=1000,early_stop=5)\n"
   ]
  },
  {
   "cell_type": "code",
   "execution_count": 19,
   "metadata": {
    "ExecuteTime": {
     "end_time": "2020-10-12T01:32:28.759056Z",
     "start_time": "2020-10-12T01:32:28.746092Z"
    }
   },
   "outputs": [
    {
     "name": "stdout",
     "output_type": "stream",
     "text": [
      "Custom model Training Loss :  23.173012527456756\n",
      "Custom model Coefficient Values [124.68034582  -3.91778338  -1.88956841  -3.05412663   1.47737456\n",
      "  -2.35603533]\n"
     ]
    }
   ],
   "source": [
    "print(\"Custom model Training Loss : \", lr_model.loss)\n",
    "print(\"Custom model Coefficient Values\",lr_model.coeff)"
   ]
  },
  {
   "cell_type": "code",
   "execution_count": null,
   "metadata": {},
   "outputs": [],
   "source": []
  },
  {
   "cell_type": "code",
   "execution_count": 20,
   "metadata": {
    "ExecuteTime": {
     "end_time": "2020-10-12T01:32:30.694492Z",
     "start_time": "2020-10-12T01:32:30.673552Z"
    }
   },
   "outputs": [
    {
     "name": "stdout",
     "output_type": "stream",
     "text": [
      "SkLearn model Training Loss :  23.032747260592338\n",
      "SkLearn model Coefficient Values [124.68034582  -3.91778338  -1.88956841  -3.05412663   1.47737456\n",
      "  -2.35603533]\n"
     ]
    }
   ],
   "source": [
    "from sklearn.linear_model import LinearRegression\n",
    "\n",
    "sk_lr_model = LinearRegression()\n",
    "\n",
    "sk_lr_model.fit(x,y)\n",
    "\n",
    "print(\"SkLearn model Training Loss : \",mean_squared_error(y,sk_lr_model.predict(x)))\n",
    "print(\"SkLearn model Coefficient Values\",lr_model.coeff)"
   ]
  },
  {
   "cell_type": "code",
   "execution_count": null,
   "metadata": {},
   "outputs": [],
   "source": []
  },
  {
   "cell_type": "code",
   "execution_count": null,
   "metadata": {},
   "outputs": [],
   "source": []
  }
 ],
 "metadata": {
  "hide_input": false,
  "kernelspec": {
   "display_name": "Python 3",
   "language": "python",
   "name": "python3"
  },
  "language_info": {
   "codemirror_mode": {
    "name": "ipython",
    "version": 3
   },
   "file_extension": ".py",
   "mimetype": "text/x-python",
   "name": "python",
   "nbconvert_exporter": "python",
   "pygments_lexer": "ipython3",
   "version": "3.7.6"
  },
  "toc": {
   "base_numbering": 1,
   "nav_menu": {},
   "number_sections": true,
   "sideBar": true,
   "skip_h1_title": false,
   "title_cell": "Table of Contents",
   "title_sidebar": "Contents",
   "toc_cell": false,
   "toc_position": {},
   "toc_section_display": true,
   "toc_window_display": false
  }
 },
 "nbformat": 4,
 "nbformat_minor": 4
}
